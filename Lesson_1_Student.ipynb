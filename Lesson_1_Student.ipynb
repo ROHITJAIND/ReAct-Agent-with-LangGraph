{
 "cells": [
  {
   "cell_type": "markdown",
   "id": "9690ac72-5d95-4cbf-875a-ae0e835593c9",
   "metadata": {},
   "source": [
    "# Lesson 1: Simple ReAct Agent from Scratch"
   ]
  },
  {
   "cell_type": "code",
   "execution_count": 1,
   "id": "83588e70-254f-4f83-a510-c8ae81e729b0",
   "metadata": {
    "height": 30
   },
   "outputs": [],
   "source": [
    "# based on https://til.simonwillison.net/llms/python-react-pattern"
   ]
  },
  {
   "cell_type": "code",
   "execution_count": 2,
   "id": "6cb3ef4c-58b3-401b-b104-0d51e553d982",
   "metadata": {
    "height": 149
   },
   "outputs": [],
   "source": [
    "import openai\n",
    "import re\n",
    "import httpx\n",
    "import os\n",
    "from dotenv import load_dotenv\n",
    "\n",
    "_ = load_dotenv()\n",
    "from openai import OpenAI"
   ]
  },
  {
   "cell_type": "code",
   "execution_count": 3,
   "id": "dc3293b7-a50c-43c8-a022-8975e1e444b8",
   "metadata": {
    "height": 30
   },
   "outputs": [],
   "source": [
    "client = OpenAI()"
   ]
  },
  {
   "cell_type": "code",
   "execution_count": 4,
   "id": "0722c3d4-4cbf-43bf-81b0-50f634c4ce61",
   "metadata": {
    "height": 81
   },
   "outputs": [],
   "source": [
    "chat_completion = client.chat.completions.create(\n",
    "    model=\"gpt-3.5-turbo\",\n",
    "    messages=[{\"role\": \"user\", \"content\": \"Hello world\"}]\n",
    ")"
   ]
  },
  {
   "cell_type": "code",
   "execution_count": 5,
   "id": "6b2f82fe-3ec4-4917-be51-9fb10d1317fa",
   "metadata": {
    "height": 30
   },
   "outputs": [
    {
     "data": {
      "text/plain": [
       "'Hello! How can I assist you today?'"
      ]
     },
     "execution_count": 5,
     "metadata": {},
     "output_type": "execute_result"
    }
   ],
   "source": [
    "chat_completion.choices[0].message.content"
   ]
  },
  {
   "cell_type": "code",
   "execution_count": 6,
   "id": "ee0fe1c7-77e2-499c-a2f9-1f739bb6ddf0",
   "metadata": {
    "height": 387
   },
   "outputs": [],
   "source": [
    "class Agent:\n",
    "    def __init__(self, system=\"\"):\n",
    "        self.system = system\n",
    "        self.messages = []\n",
    "        if self.system:\n",
    "            self.messages.append({\"role\": \"system\", \"content\": system})\n",
    "\n",
    "    def __call__(self, message):\n",
    "        self.messages.append({\"role\": \"user\", \"content\": message})\n",
    "        result = self.execute()\n",
    "        self.messages.append({\"role\": \"assistant\", \"content\": result})\n",
    "        return result\n",
    "\n",
    "    def execute(self):\n",
    "        completion = client.chat.completions.create(\n",
    "                        model=\"gpt-4o\", \n",
    "                        temperature=0,\n",
    "                        messages=self.messages)\n",
    "        return completion.choices[0].message.content\n",
    "    "
   ]
  },
  {
   "cell_type": "code",
   "execution_count": null,
   "id": "335b935e",
   "metadata": {
    "height": 30
   },
   "outputs": [],
   "source": []
  },
  {
   "cell_type": "code",
   "execution_count": 7,
   "id": "98f303b1-a4d0-408c-8cc0-515ff980717f",
   "metadata": {
    "height": 557
   },
   "outputs": [],
   "source": [
    "prompt = \"\"\"\n",
    "You run in a loop of Thought, Action, PAUSE, Observation.\n",
    "At the end of the loop you output an Answer.\n",
    "Use Thought to describe your thoughts about the question you have been asked.\n",
    "Use Action to run one of the actions available to you - then return PAUSE.\n",
    "Observation will be the result of running those actions.\n",
    "\n",
    "Your available actions are:\n",
    "\n",
    "calculate_gpa:\n",
    "e.g. calculate_gpa: A, B+, C\n",
    "Calculates the GPA based on a comma-separated list of grades.\n",
    "\n",
    "get_due_date:\n",
    "e.g. get_due_date: \"Research Paper\"\n",
    "Looks up the due date for a specific assignment.\n",
    "\n",
    "define_term:\n",
    "e.g. define_term: \"Quantum Entanglement\"\n",
    "Provides a simple definition for a given term.\n",
    "\n",
    "Example session:\n",
    "\n",
    "Question: What is the due date for the Final Presentation?\n",
    "Thought: I need to use get_due_date to find the due date for \"Final Presentation\".\n",
    "Action: get_due_date: \"Final Presentation\"\n",
    "PAUSE\n",
    "\n",
    "You will be called again with this:\n",
    "\n",
    "Observation: The Final Presentation is due on 2025-12-15\n",
    "\n",
    "You then output:\n",
    "\n",
    "Answer: The Final Presentation is due on 2025-12-15.\n",
    "\"\"\".strip()\n"
   ]
  },
  {
   "cell_type": "code",
   "execution_count": 14,
   "id": "bf4dcb93-6298-4cfd-b3ce-61dfac7fb35f",
   "metadata": {
    "height": 302
   },
   "outputs": [],
   "source": [
    "def calculate_gpa(grades_string):\n",
    "    try:\n",
    "        grade_map = {\n",
    "            \"A+\": 9.0, \"A\": 8.0, \"O\": 10.0,\n",
    "            \"B+\": 7.0, \"B\": 6.0,\n",
    "            \"C+\": 5.0, \"C\": 2.0,\n",
    "            \"AB\": 0.0, \"D\": 1.0,\n",
    "            \"F\": 0.0\n",
    "        }\n",
    "        \n",
    "        grades_list = [g.strip().upper() for g in grades_string.split(',')]\n",
    "        points_total = sum(grade_map.get(grade, 0) for grade in grades_list)\n",
    "        if len(grades_list) == 0:\n",
    "            return \"No grades provided, cannot calculate GPA.\"\n",
    "        return f\"Calculated GPA is {points_total / len(grades_list):.2f}\"\n",
    "    except Exception as e:\n",
    "        return f\"Error calculating GPA: {e}\"\n",
    "\n",
    "def get_due_date(assignment_name):\n",
    "    due_dates = {\n",
    "        \"final paper\": \"2025-12-10\",\n",
    "        \"midterm exam\": \"2025-10-25\",\n",
    "        \"group project\": \"2025-11-20\",\n",
    "        \"reading quiz\": \"2025-09-05\"\n",
    "    }\n",
    "    assignment_name_lower = assignment_name.lower().strip()\n",
    "    return f\"The due date for '{assignment_name}' is {due_dates.get(assignment_name_lower, 'not found')}\"\n",
    "\n",
    "def define_term(term):\n",
    "    definitions = {\n",
    "        \"procrastination\": \"The action of delaying or postponing something.\",\n",
    "        \"synergy\": \"The interaction or cooperation of two or more agents to produce a combined effect greater than the sum of their separate effects.\",\n",
    "        \"plagiarism\": \"The practice of taking someone else's work or ideas and passing them off as one's own.\"\n",
    "    }\n",
    "    term_lower = term.lower().strip()\n",
    "    return f\"Definition for '{term}': {definitions.get(term_lower, 'term not found')}\"\n",
    "\n",
    "known_actions = {\n",
    "    \"calculate_gpa\": calculate_gpa,\n",
    "    \"get_due_date\": get_due_date,\n",
    "    \"define_term\": define_term\n",
    "}"
   ]
  },
  {
   "cell_type": "code",
   "execution_count": 15,
   "id": "932883a4-c722-42bb-aec0-b4f41c5c81a4",
   "metadata": {
    "height": 30
   },
   "outputs": [],
   "source": [
    "student_agent = Agent(prompt)"
   ]
  },
  {
   "cell_type": "code",
   "execution_count": 16,
   "id": "ff362f49-dcf1-4ea1-a86c-e516e9ab897d",
   "metadata": {
    "height": 47
   },
   "outputs": [
    {
     "name": "stdout",
     "output_type": "stream",
     "text": [
      "\n",
      "User's question: What is my GPA if I got an A, a B+, and a C?\n"
     ]
    }
   ],
   "source": [
    "question = \"What is my GPA if I got an A, a B+, and a C?\"\n",
    "print(f\"\\nUser's question: {question}\")"
   ]
  },
  {
   "cell_type": "code",
   "execution_count": 17,
   "id": "a7e15a20-83d7-434c-8551-bce8dcc32be0",
   "metadata": {
    "height": 74
   },
   "outputs": [],
   "source": [
    "thought_action_response = student_agent(question)"
   ]
  },
  {
   "cell_type": "code",
   "execution_count": 18,
   "id": "54ab2c74-f32e-490c-a85d-932d11444210",
   "metadata": {
    "height": 101
   },
   "outputs": [
    {
     "name": "stdout",
     "output_type": "stream",
     "text": [
      "\n",
      "Simulating tool use: Observation: Calculated GPA is 5.67\n"
     ]
    }
   ],
   "source": [
    "grades = \"A, B+, C\"\n",
    "observation = calculate_gpa(grades)\n",
    "next_prompt = f\"Observation: {observation}\"\n",
    "print(f\"\\nSimulating tool use: {next_prompt}\")"
   ]
  },
  {
   "cell_type": "code",
   "execution_count": 19,
   "id": "a833d3ce-bd31-4319-811d-decff226b970",
   "metadata": {
    "height": 30
   },
   "outputs": [
    {
     "name": "stdout",
     "output_type": "stream",
     "text": [
      "\n",
      "Final Answer: Answer: The calculated GPA for the grades A, B+, and C is 5.67.\n"
     ]
    }
   ],
   "source": [
    "# Step 3: We feed the observation back to the agent\n",
    "final_answer = student_agent(next_prompt)\n",
    "\n",
    "# Print the final result\n",
    "print(f\"\\nFinal Answer: {final_answer}\")"
   ]
  },
  {
   "cell_type": "markdown",
   "id": "6b46f2ac-f717-4ab9-b548-f34b74071d76",
   "metadata": {},
   "source": [
    "### Add loop "
   ]
  },
  {
   "cell_type": "code",
   "execution_count": 20,
   "id": "6b910915-b087-4d35-afff-0ec30a5852f1",
   "metadata": {
    "height": 30
   },
   "outputs": [
    {
     "name": "stdout",
     "output_type": "stream",
     "text": [
      "User's question: When is the midterm exam due?\n"
     ]
    }
   ],
   "source": [
    "question = \"When is the midterm exam due?\"\n",
    "print(f\"User's question: {question}\")"
   ]
  },
  {
   "cell_type": "code",
   "execution_count": 22,
   "id": "c4feb6cc-5129-4a99-bb45-851bc07b5709",
   "metadata": {
    "height": 421
   },
   "outputs": [
    {
     "name": "stdout",
     "output_type": "stream",
     "text": [
      "\n",
      "Simulating tool use: Observation: The due date for 'midterm exam' is 2025-10-25\n",
      "\n",
      "Final Answer: Answer: The midterm exam is due on 2025-10-25.\n"
     ]
    }
   ],
   "source": [
    "thought_action_response = student_agent(question)\n",
    "assignment_name = \"midterm exam\"\n",
    "observation = get_due_date(assignment_name)\n",
    "next_prompt = f\"Observation: {observation}\"\n",
    "print(f\"\\nSimulating tool use: {next_prompt}\")\n",
    "final_answer = student_agent(next_prompt)\n",
    "print(f\"\\nFinal Answer: {final_answer}\")"
   ]
  },
  {
   "cell_type": "code",
   "execution_count": null,
   "id": "e85a02b4-96cc-4b01-8792-397a774eb499",
   "metadata": {
    "height": 64
   },
   "outputs": [],
   "source": []
  },
  {
   "cell_type": "code",
   "execution_count": null,
   "id": "ae8b86a6-5e20-4252-b1d8-009b8318345a",
   "metadata": {
    "height": 30
   },
   "outputs": [],
   "source": []
  },
  {
   "cell_type": "code",
   "execution_count": null,
   "id": "af925917-b746-48c9-ac74-62fefbe5246c",
   "metadata": {
    "height": 30
   },
   "outputs": [],
   "source": []
  }
 ],
 "metadata": {
  "kernelspec": {
   "display_name": "Python 3 (ipykernel)",
   "language": "python",
   "name": "python3"
  },
  "language_info": {
   "codemirror_mode": {
    "name": "ipython",
    "version": 3
   },
   "file_extension": ".py",
   "mimetype": "text/x-python",
   "name": "python",
   "nbconvert_exporter": "python",
   "pygments_lexer": "ipython3",
   "version": "3.11.9"
  }
 },
 "nbformat": 4,
 "nbformat_minor": 5
}
